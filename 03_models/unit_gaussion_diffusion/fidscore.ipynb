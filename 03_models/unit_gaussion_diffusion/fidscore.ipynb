{
 "cells": [
  {
   "cell_type": "code",
   "execution_count": null,
   "metadata": {},
   "outputs": [],
   "source": [
    "from pytorch_fid.fid_score import calculate_fid_given_paths\n",
    "\n",
    "# Assume `real_images_path` is the path to a directory containing real images\n",
    "# and `generated_images_path` is the path to a directory containing your generated images.\n",
    "real_images_path = 'path/to/real/images'\n",
    "generated_images_path = 'path/to/generated/images'\n",
    "device = 'cuda'  # Change this to 'cpu' if you don't have a GPU\n",
    "# This will calculate the FID score between the two sets of images.\n",
    "# The batch size can be adjusted based on your available memory.\n",
    "fid_score = calculate_fid_given_paths([real_images_path, generated_images_path],\n",
    "                                      batch_size=50,\n",
    "                                      device=device,\n",
    "                                      dims=2048)\n",
    "\n",
    "print(f\"FID score: {fid_score}\")\n"
   ]
  }
 ],
 "metadata": {
  "language_info": {
   "name": "python"
  }
 },
 "nbformat": 4,
 "nbformat_minor": 2
}
