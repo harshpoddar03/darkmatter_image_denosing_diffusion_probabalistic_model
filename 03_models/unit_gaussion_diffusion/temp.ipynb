{
 "cells": [
  {
   "cell_type": "code",
   "execution_count": 11,
   "metadata": {},
   "outputs": [
    {
     "name": "stderr",
     "output_type": "stream",
     "text": [
      "c:\\Users\\harsh\\anaconda3\\envs\\cuda_pytorch\\lib\\site-packages\\tqdm\\auto.py:21: TqdmWarning: IProgress not found. Please update jupyter and ipywidgets. See https://ipywidgets.readthedocs.io/en/stable/user_install.html\n",
      "  from .autonotebook import tqdm as notebook_tqdm\n"
     ]
    }
   ],
   "source": [
    "\n",
    "import torch\n",
    "from torch.utils.data import Dataset, DataLoader\n",
    "from torchvision import transforms\n",
    "from PIL import Image\n",
    "import numpy as np\n",
    "import os\n",
    "from denoising_diffusion_pytorch import Unet, GaussianDiffusion, Trainer\n"
   ]
  },
  {
   "cell_type": "markdown",
   "metadata": {},
   "source": []
  },
  {
   "cell_type": "code",
   "execution_count": null,
   "metadata": {},
   "outputs": [],
   "source": [
    "\n",
    "\n",
    "# Custom dataset class for loading and converting grayscale images to 3-channel RGB\n",
    "class NPYImageDataset(Dataset):\n",
    "    def __init__(self, image_folder, transform=None):\n",
    "        self.image_folder = image_folder\n",
    "        self.transform = transform\n",
    "        self.image_files = [os.path.join(image_folder, img) for img in os.listdir(image_folder) if img.endswith('.npy')]\n",
    "\n",
    "    def __len__(self):\n",
    "        return len(self.image_files)\n",
    "\n",
    "    def __getitem__(self, index):\n",
    "        image_path = self.image_files[index]\n",
    "        image = np.load(image_path)  # Load the .npy file\n",
    "\n",
    "        # Assuming the image is stored as a 2D array (for grayscale)\n",
    "        # Convert it to a 3D array with 1 channel repeated 3 times for compatibility\n",
    "        if len(image.shape) == 2:  # Grayscale image, needs conversion\n",
    "            image = np.repeat(image[:, :, np.newaxis], 3, axis=2)  # Convert to 3-channel\n",
    "\n",
    "        # Convert image to PyTorch tensor and apply transforms if any\n",
    "        image = torch.tensor(image, dtype=torch.float32).permute(2, 0, 1) / 255.0  # Normalize to [0, 1]\n",
    "        if self.transform:\n",
    "            image = self.transform(image)\n",
    "        return image\n",
    "\n",
    "# Transformation setup for resizing and normalizing 3-channel images\n",
    "transform = transforms.Compose([\n",
    "    transforms.Resize((128, 128)),  # Resize images to 128x128\n",
    "    transforms.ToTensor(),\n",
    "    transforms.Normalize(mean=[0.5, 0.5, 0.5], std=[0.5, 0.5, 0.5])  # Normalize for 3 channels\n",
    "])\n",
    "\n",
    "# Initialize dataset and dataloader for training\n",
    "image_folder = './Samples'  # Update this path\n",
    "dataset = NPYImageDataset(image_folder=image_folder, transform=transform)\n",
    "dataloader = DataLoader(dataset, batch_size=32, shuffle=True)\n",
    "\n",
    "# Initialize the Unet model\n",
    "model = Unet(\n",
    "    dim = 64,\n",
    "    dim_mults = (1, 2, 4, 8),\n",
    "    flash_attn = True\n",
    ")\n",
    "\n",
    "# Initialize the GaussianDiffusion process\n",
    "diffusion = GaussianDiffusion(\n",
    "    model,\n",
    "    image_size = 128,\n",
    "    timesteps = 1000,           \n",
    "    sampling_timesteps = 250    \n",
    ")\n",
    "\n",
    "# Initialize the trainer\n",
    "trainer = Trainer(\n",
    "    diffusion,\n",
    "    folder = image_folder,  # The folder path is required but not directly used in this script\n",
    "    train_batch_size = 32,\n",
    "    train_lr = 8e-5,\n",
    "    train_num_steps = 700000,       \n",
    "    gradient_accumulate_every = 2,   \n",
    "    ema_decay = 0.995,                \n",
    "    amp = True,  # Automated Mixed Precision for faster training\n",
    "    calculate_fid = True  # If you have set up FID calculation\n",
    ")\n",
    "\n",
    "# Train the model\n",
    "trainer.train()\n",
    "\n",
    "# Note: This script assumes the `Trainer` class from `denoising_diffusion_pytorch` is used as-is\n",
    "# and is capable of directly handling the provided dataloader. Adjustments might be necessary\n",
    "# if the `Trainer` class does not directly support this usage.\n"
   ]
  },
  {
   "cell_type": "code",
   "execution_count": null,
   "metadata": {},
   "outputs": [],
   "source": [
    "class NPYImageDataset(Dataset):\n",
    "    def __init__(self, image_folder, transform=None):\n",
    "        self.image_folder = image_folder\n",
    "        self.transform = transform\n",
    "        self.image_files = [os.path.join(image_folder, img) for img in os.listdir(image_folder) if img.endswith('.npy')]\n",
    "\n",
    "    def __len__(self):\n",
    "        return len(self.image_files)\n",
    "\n",
    "    def __getitem__(self, index):\n",
    "        image_path = self.image_files[index]\n",
    "        image = np.load(image_path)  # Load the .npy file\n",
    "\n",
    "        # Assuming the image is stored as a 2D array (for grayscale)\n",
    "        # Convert it to a 3D array with 1 channel repeated 3 times for compatibility\n",
    "        if len(image.shape) == 2:  # Grayscale image, needs conversion\n",
    "            image = np.repeat(image[:, :, np.newaxis], 3, axis=2)  # Convert to 3-channel\n",
    "\n",
    "        # Convert image to PyTorch tensor and apply transforms if any\n",
    "        image = torch.tensor(image, dtype=torch.float32).permute(2, 0, 1) / 255.0  # Normalize to [0, 1]\n",
    "        if self.transform:\n",
    "            image = self.transform(image)\n",
    "        return image"
   ]
  },
  {
   "cell_type": "code",
   "execution_count": null,
   "metadata": {},
   "outputs": [],
   "source": [
    "image_folder = './Samples'  # Update this path\n",
    "dataset = NPYImageDataset(image_folder=image_folder, transform=transform)\n",
    "data_loader = DataLoader(dataset, batch_size=32, shuffle=True)"
   ]
  },
  {
   "cell_type": "code",
   "execution_count": 3,
   "metadata": {},
   "outputs": [],
   "source": [
    "import os\n",
    "import numpy as np\n",
    "\n",
    "directory = './Samples'\n",
    "numpy_list = []\n",
    "\n",
    "for file_name in os.listdir(directory):\n",
    "    if file_name.endswith('.npy'):\n",
    "        file_path = os.path.join(directory, file_name)\n",
    "        image_np = np.load(file_path)\n",
    "\n",
    "        # Assuming the loaded image shape is (1, 150, 150), i.e., grayscale with a single channel\n",
    "        if image_np.shape == (1, 150, 150):\n",
    "            # Remove the channel dimension\n",
    "            image_np = np.squeeze(image_np, axis=0)\n",
    "            # Convert grayscale to RGB by repeating the single channel 3 times\n",
    "            image_np = np.repeat(image_np[np.newaxis, :, :], 3, axis=0)\n",
    "\n",
    "        # Append the RGB numpy array directly to the list\n",
    "        numpy_list.append(image_np)\n",
    "\n",
    "# Now, `numpy_list` contains all your images as numpy arrays of shape (3, 150, 150)\n"
   ]
  },
  {
   "cell_type": "code",
   "execution_count": 4,
   "metadata": {},
   "outputs": [
    {
     "name": "stdout",
     "output_type": "stream",
     "text": [
      "(10000, 3, 150, 150)\n"
     ]
    }
   ],
   "source": [
    "numpy_list = np.array(numpy_list)\n",
    "print(numpy_list.shape)"
   ]
  },
  {
   "cell_type": "code",
   "execution_count": 5,
   "metadata": {},
   "outputs": [],
   "source": [
    "import torch\n",
    "\n",
    "# Convert the numpy arrays to PyTorch tensors\n",
    "tensor_list = [torch.tensor(image_np, dtype=torch.float32) for image_np in numpy_list]\n",
    "\n",
    "# Normalize the tensors to have values between 0 and 1 if they aren't already\n",
    "tensor_list = [tensor / 255. for tensor in tensor_list]\n"
   ]
  },
  {
   "cell_type": "code",
   "execution_count": 18,
   "metadata": {},
   "outputs": [
    {
     "data": {
      "text/plain": [
       "torch.Tensor"
      ]
     },
     "execution_count": 18,
     "metadata": {},
     "output_type": "execute_result"
    }
   ],
   "source": [
    "type(tensor_list[0])"
   ]
  },
  {
   "cell_type": "code",
   "execution_count": 6,
   "metadata": {},
   "outputs": [],
   "source": [
    "from torch.utils.data import Dataset\n",
    "\n",
    "class CustomTensorDataset(Dataset):\n",
    "    def __init__(self, tensor_list):\n",
    "        self.tensor_list = tensor_list\n",
    "\n",
    "    def __len__(self):\n",
    "        return len(self.tensor_list)\n",
    "\n",
    "    def __getitem__(self, idx):\n",
    "        return self.tensor_list[idx]\n"
   ]
  },
  {
   "cell_type": "code",
   "execution_count": 7,
   "metadata": {},
   "outputs": [],
   "source": [
    "# Initialize the dataset with your list of tensors\n",
    "dataset = CustomTensorDataset(tensor_list)\n"
   ]
  },
  {
   "cell_type": "code",
   "execution_count": 16,
   "metadata": {},
   "outputs": [
    {
     "data": {
      "text/plain": [
       "torch.Tensor"
      ]
     },
     "execution_count": 16,
     "metadata": {},
     "output_type": "execute_result"
    }
   ],
   "source": [
    "type(dataset[0])"
   ]
  },
  {
   "cell_type": "code",
   "execution_count": 9,
   "metadata": {},
   "outputs": [],
   "source": [
    "from torch.utils.data import DataLoader\n",
    "\n",
    "# Create a DataLoader\n",
    "batch_size = 32  # Set the batch size\n",
    "shuffle = True   # Shuffle the dataset at every epoch\n",
    "dataloader = DataLoader(dataset, batch_size=batch_size, shuffle=shuffle)\n"
   ]
  },
  {
   "cell_type": "code",
   "execution_count": 29,
   "metadata": {},
   "outputs": [
    {
     "name": "stdout",
     "output_type": "stream",
     "text": [
      "Epoch 1: Loss = 0.011305714026093483\n"
     ]
    }
   ],
   "source": [
    "import numpy as np\n",
    "import torch\n",
    "from torch.utils.data import DataLoader, TensorDataset\n",
    "from torchvision.transforms import Compose, Resize, Lambda\n",
    "from denoising_diffusion_pytorch import Unet, GaussianDiffusion\n",
    "import torchvision.transforms.functional as TF\n",
    "\n",
    "# Assuming images_np is your numpy array with shape (10000, 3, 150, 150)\n",
    "# For demonstration, creating a dummy numpy array with random values\n",
    "\n",
    "# Step 1: Convert numpy array to PyTorch tensor\n",
    "images_tensor = tensor_list\n",
    "\n",
    "# Step 2: Define a transform to resize images to 128x128\n",
    "transform = Compose([\n",
    "    Lambda(lambda x: TF.to_pil_image(x)),\n",
    "    Resize((128, 128)),  # Convert to PIL Image to use torchvision's Resize                  # Resize image to 128x128\n",
    "    Lambda(lambda x: TF.to_tensor(x)),     # Convert back to tensor\n",
    "])\n",
    "\n",
    "# Apply the transform to each image in the tensor\n",
    "images_tensor_resized = torch.stack([transform(img) for img in images_tensor])\n",
    "\n",
    "# Step 3: Create a Dataset and DataLoader\n",
    "dataset = TensorDataset(images_tensor_resized)\n",
    "data_loader = DataLoader(dataset, batch_size=32, shuffle=True)\n",
    "\n",
    "# Initialize the Unet model\n",
    "model = Unet(\n",
    "    dim=64,\n",
    "    dim_mults=(1, 2, 4, 8),\n",
    "    flash_attn=True\n",
    ")\n",
    "\n",
    "# Initialize the GaussianDiffusion process\n",
    "diffusion = GaussianDiffusion(\n",
    "    model,\n",
    "    image_size=128,\n",
    "    timesteps=1000  # Number of steps\n",
    ")\n",
    "\n",
    "# Define an optimizer\n",
    "optimizer = torch.optim.Adam(model.parameters(), lr=1e-4)\n",
    "\n",
    "# Training loop (simplified example)\n",
    "num_epochs = 3  # Set the number of epochs as needed\n",
    "for epoch in range(num_epochs):\n",
    "    for batch in data_loader:\n",
    "        optimizer.zero_grad()\n",
    "        images = batch[0]  # Extract images tensor from the batch\n",
    "        loss = diffusion(images)  # Compute loss\n",
    "        loss.backward()  # Backpropagation\n",
    "        optimizer.step()  # Update model parameters\n",
    "    print(f\"Epoch {epoch + 1}: Loss = {loss.item()}\")\n",
    "\n",
    "# After training, sample images from the model\n",
    "sampled_images = diffusion.sample(batch_size=8)\n",
    "print(f\"Sampled images shape: {sampled_images.shape}\")  # Should be (8, 3, 128, 128)\n"
   ]
  },
  {
   "cell_type": "code",
   "execution_count": null,
   "metadata": {},
   "outputs": [],
   "source": []
  }
 ],
 "metadata": {
  "kernelspec": {
   "display_name": "cuda_pytorch",
   "language": "python",
   "name": "python3"
  },
  "language_info": {
   "codemirror_mode": {
    "name": "ipython",
    "version": 3
   },
   "file_extension": ".py",
   "mimetype": "text/x-python",
   "name": "python",
   "nbconvert_exporter": "python",
   "pygments_lexer": "ipython3",
   "version": "3.10.13"
  }
 },
 "nbformat": 4,
 "nbformat_minor": 2
}
