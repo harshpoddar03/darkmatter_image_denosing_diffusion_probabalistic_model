{
 "cells": [
  {
   "cell_type": "code",
   "execution_count": 14,
   "metadata": {},
   "outputs": [],
   "source": [
    "import os\n",
    "import torch\n",
    "import torchvision\n",
    "import torchvision.transforms as transforms\n",
    "from torchvision.utils import save_image\n",
    "from torch.utils.data import DataLoader, TensorDataset\n",
    "import numpy as np\n",
    "from tqdm import tqdm\n",
    "\n",
    "\n",
    "from unet import UNet\n",
    "from Diffusion import DenoiseDiffusion\n",
    "\n"
   ]
  },
  {
   "cell_type": "code",
   "execution_count": 15,
   "metadata": {},
   "outputs": [],
   "source": [
    "def setup_device():\n",
    "    return torch.device('cuda' if torch.cuda.is_available() else 'cpu')\n",
    "\n",
    "def setup_configuration():\n",
    "    return {\n",
    "        \"image_size\": 128,\n",
    "        \"image_channels\": 1,\n",
    "        \"n_channels\": 64,\n",
    "        \"channel_multipliers\": [1, 2, 2, 4],\n",
    "        \"is_attention\": [False, False, False, True],\n",
    "        \"n_steps\": 1000,\n",
    "        \"batch_size\": 64,\n",
    "        \"n_samples\": 16,\n",
    "        \"learning_rate\": 1e-4,\n",
    "        \"epochs\": 10\n",
    "    }"
   ]
  },
  {
   "cell_type": "code",
   "execution_count": 16,
   "metadata": {},
   "outputs": [],
   "source": [
    "def setup_models_and_optimizer(config, device):\n",
    "    eps_model = UNet(\n",
    "        image_channels=config[\"image_channels\"],\n",
    "        n_channels=config[\"n_channels\"],\n",
    "        ch_mults=config[\"channel_multipliers\"],\n",
    "        is_attn=config[\"is_attention\"]\n",
    "    ).to(device)\n",
    "\n",
    "    diffusion_model = DenoiseDiffusion(\n",
    "        eps_model=eps_model,\n",
    "        n_steps=config[\"n_steps\"],\n",
    "        device=device\n",
    "    )\n",
    "\n",
    "    optimizer = torch.optim.Adam(eps_model.parameters(), lr=config[\"learning_rate\"])\n",
    "\n",
    "    return eps_model, diffusion_model, optimizer\n",
    "\n",
    "\n"
   ]
  },
  {
   "cell_type": "code",
   "execution_count": 17,
   "metadata": {},
   "outputs": [],
   "source": [
    "import os\n",
    "import numpy as np\n",
    "\n",
    "directory = './Samples'\n",
    "numpy_list = []\n",
    "\n",
    "for file_name in os.listdir(directory):\n",
    "    if file_name.endswith('.npy'):\n",
    "        file_path = os.path.join(directory, file_name)\n",
    "        image_np = np.load(file_path)\n",
    "\n",
    "        # Assuming the loaded image shape is (1, 150, 150), i.e., grayscale with a single channel\n",
    "        # if image_np.shape == (1, 150, 150):\n",
    "        #     # Remove the channel dimension\n",
    "        #     image_np = np.squeeze(image_np, axis=0)\n",
    "        #     # Convert grayscale to RGB by repeating the single channel 3 times\n",
    "        #     image_np = np.repeat(image_np[np.newaxis, :, :], 3, axis=0)\n",
    "\n",
    "        # Append the RGB numpy array directly to the list\n",
    "        numpy_list.append(image_np)\n",
    "\n",
    "# Now, `numpy_list` contains all your images as numpy arrays of shape (3, 150, 150)\n"
   ]
  },
  {
   "cell_type": "code",
   "execution_count": 18,
   "metadata": {},
   "outputs": [
    {
     "name": "stdout",
     "output_type": "stream",
     "text": [
      "(10000, 1, 150, 150)\n"
     ]
    }
   ],
   "source": [
    "numpy_list = np.array(numpy_list)\n",
    "print(numpy_list.shape)"
   ]
  },
  {
   "cell_type": "code",
   "execution_count": 19,
   "metadata": {},
   "outputs": [],
   "source": [
    "import torch\n",
    "\n",
    "# Convert the numpy arrays to PyTorch tensors\n",
    "tensor_list = [torch.tensor(image_np, dtype=torch.float32) for image_np in numpy_list]\n",
    "\n",
    "# Normalize the tensors to have values between 0 and 1 if they aren't already\n",
    "tensor_list = [tensor / 255. for tensor in tensor_list]"
   ]
  },
  {
   "cell_type": "code",
   "execution_count": 20,
   "metadata": {},
   "outputs": [],
   "source": [
    "\n",
    "from torchvision.transforms import functional as TF\n",
    "\n",
    "transformed_tensors = []\n",
    "image_size = (128, 128)\n",
    "\n",
    "for img in tensor_list:\n",
    "        # Ensure img is C x H x W\n",
    "    img = TF.resize(img, image_size)\n",
    "    transformed_tensors.append(img)\n",
    "\n",
    "# Stack transformed images into a single tensor\n",
    "transformed_data_tensor = torch.stack(transformed_tensors)"
   ]
  },
  {
   "cell_type": "code",
   "execution_count": 21,
   "metadata": {},
   "outputs": [
    {
     "data": {
      "text/plain": [
       "torch.Tensor"
      ]
     },
     "execution_count": 21,
     "metadata": {},
     "output_type": "execute_result"
    }
   ],
   "source": [
    "type(tensor_list[0])"
   ]
  },
  {
   "cell_type": "code",
   "execution_count": 22,
   "metadata": {},
   "outputs": [
    {
     "data": {
      "text/plain": [
       "(10000, 1, 128, 128)"
      ]
     },
     "execution_count": 22,
     "metadata": {},
     "output_type": "execute_result"
    }
   ],
   "source": [
    "np.array(transformed_data_tensor).shape"
   ]
  },
  {
   "cell_type": "code",
   "execution_count": 23,
   "metadata": {},
   "outputs": [],
   "source": [
    "# def load_npy_data(file_path):\n",
    "#     # Load the numpy file\n",
    "#     data_numpy = np.load(file_path)\n",
    "#     # Convert the numpy array to a PyTorch tensor and normalize it\n",
    "#     data_tensor = torch.from_numpy(data_numpy).float() / 255.0  # Normalize to [0, 1]\n",
    "#     return data_tensor\n",
    "\n",
    "\n",
    "def setup_dataloader(config, data_tensor):\n",
    "\n",
    "    # data_tensor = torch.stack(data_tensor)\n",
    "    labels = torch.zeros(data_tensor.size(0), dtype=torch.long)\n",
    "    \n",
    "    # Wrap the data and labels in a TensorDataset\n",
    "    dataset = TensorDataset(data_tensor, labels)\n",
    "\n",
    "    # Define a transform\n",
    "    transform = transforms.Compose([\n",
    "        transforms.Resize(config[\"image_size\"]),\n",
    "         # If your data is already a Tensor, this is unnecessary\n",
    "    ])\n",
    "    \n",
    "    # DataLoader doesn't directly apply transformations to TensorDataset,\n",
    "    # so you might apply transformations on-the-fly within your training loop, or modify the data beforehand\n",
    "    \n",
    "    # Create the DataLoader\n",
    "    dataloader = DataLoader(dataset, batch_size=config[\"batch_size\"], shuffle=True)\n",
    "    \n",
    "    return dataloader"
   ]
  },
  {
   "cell_type": "code",
   "execution_count": 24,
   "metadata": {},
   "outputs": [],
   "source": [
    "def train(epochs, data_loader, eps_model, diffusion_model, optimizer, device):\n",
    "    for epoch in range(epochs):\n",
    "        eps_model.train()  # Set U-Net to training mode\n",
    "        total_loss = 0.0\n",
    "        # Initialize tqdm progress bar\n",
    "        with tqdm(enumerate(data_loader), total=len(data_loader), desc=f'Epoch {epoch+1}/{epochs}') as pbar:\n",
    "            for batch_idx, (data, _) in pbar:\n",
    "                data = data.to(device)\n",
    "                optimizer.zero_grad()\n",
    "                loss = diffusion_model.loss(data)\n",
    "                loss.backward()\n",
    "                optimizer.step()\n",
    "\n",
    "                total_loss += loss.item()\n",
    "\n",
    "                # Update tqdm postfix to display the running average loss\n",
    "                pbar.set_postfix({'loss': f'{total_loss / (batch_idx + 1):.4f}'})\n",
    "        \n",
    "        # Print average loss for the epoch\n",
    "        avg_loss = total_loss / len(data_loader)\n",
    "        print(f'End of Epoch {epoch+1}, Average Loss: {avg_loss:.4f}\\n')"
   ]
  },
  {
   "cell_type": "code",
   "execution_count": 25,
   "metadata": {},
   "outputs": [],
   "source": [
    "def sample(n_samples, image_size, image_channels, diffusion_model, device, save_dir='generated_images'):\n",
    "    os.makedirs(save_dir, exist_ok=True)\n",
    "    with torch.no_grad():\n",
    "        x = torch.randn([n_samples, image_channels, image_size, image_size], device=device)\n",
    "        for t in reversed(range(diffusion_model.n_steps)):\n",
    "            x = diffusion_model.p_sample(x, torch.full((n_samples,), t, device=device, dtype=torch.long))\n",
    "        \n",
    "        for i, image in enumerate(x):\n",
    "            save_path = os.path.join(save_dir, f'generated_image_{i}.png')\n",
    "            save_image((image + 1) / 2, save_path)  # Normalize image to [0, 1]\n",
    "\n",
    "        print(f'Generated images have been saved to {save_dir}/')\n"
   ]
  },
  {
   "cell_type": "code",
   "execution_count": 26,
   "metadata": {},
   "outputs": [
    {
     "name": "stdout",
     "output_type": "stream",
     "text": [
      "Starting training...\n"
     ]
    },
    {
     "name": "stderr",
     "output_type": "stream",
     "text": [
      "Epoch 1/10:  32%|███▏      | 51/157 [43:58<1:30:00, 50.95s/it, loss=0.1109]"
     ]
    }
   ],
   "source": [
    "\n",
    "device = setup_device()\n",
    "config = setup_configuration()\n",
    "eps_model, diffusion_model, optimizer = setup_models_and_optimizer(config, device)\n",
    "data_loader = setup_dataloader(config,data_tensor=transformed_data_tensor)\n",
    "\n",
    "print(\"Starting training...\")\n",
    "train(config[\"epochs\"], data_loader,eps_model, diffusion_model, optimizer,device)\n",
    "\n",
    "print(\"Generating images...\")\n",
    "sample(config[\"n_samples\"], config[\"image_size\"], config[\"image_channels\"], diffusion_model, device)"
   ]
  },
  {
   "cell_type": "code",
   "execution_count": null,
   "metadata": {},
   "outputs": [],
   "source": []
  }
 ],
 "metadata": {
  "kernelspec": {
   "display_name": "pytorch-cuda",
   "language": "python",
   "name": "python3"
  },
  "language_info": {
   "codemirror_mode": {
    "name": "ipython",
    "version": 3
   },
   "file_extension": ".py",
   "mimetype": "text/x-python",
   "name": "python",
   "nbconvert_exporter": "python",
   "pygments_lexer": "ipython3",
   "version": "3.12.2"
  }
 },
 "nbformat": 4,
 "nbformat_minor": 2
}
